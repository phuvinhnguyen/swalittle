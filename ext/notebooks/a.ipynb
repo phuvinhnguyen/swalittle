{
 "cells": [
  {
   "cell_type": "code",
   "execution_count": 19,
   "id": "d5672e2b",
   "metadata": {},
   "outputs": [
    {
     "name": "stdout",
     "output_type": "stream",
     "text": [
      "0.6666666666666666\n"
     ]
    }
   ],
   "source": [
    "import difflib\n",
    "\n",
    "def patch_similarity(patch1, patch2):\n",
    "    # So sánh patch dựa trên tỉ lệ giống nhau (ratio)\n",
    "    similarity = difflib.SequenceMatcher(None, patch1, patch2).ratio()\n",
    "    return similarity\n",
    "\n",
    "patch1 = \"\"\"\n",
    "- old_code();\n",
    "+ new_code();\n",
    "\"\"\"\n",
    "patch2 = \"\"\"\n",
    "- old_code();\n",
    "+ # hello there, how are you\n",
    "+ new_code();\n",
    "\"\"\"\n",
    "\n",
    "print(patch_similarity(patch1, patch2))  # Output: ~0.8 (80% giống nhau)"
   ]
  }
 ],
 "metadata": {
  "kernelspec": {
   "display_name": "viai",
   "language": "python",
   "name": "python3"
  },
  "language_info": {
   "codemirror_mode": {
    "name": "ipython",
    "version": 3
   },
   "file_extension": ".py",
   "mimetype": "text/x-python",
   "name": "python",
   "nbconvert_exporter": "python",
   "pygments_lexer": "ipython3",
   "version": "3.12.4"
  }
 },
 "nbformat": 4,
 "nbformat_minor": 5
}
